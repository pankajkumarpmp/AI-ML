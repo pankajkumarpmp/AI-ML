{
  "nbformat": 4,
  "nbformat_minor": 0,
  "metadata": {
    "colab": {
      "provenance": [],
      "authorship_tag": "ABX9TyNU2hD4sIeu+/mba8KRjYNe",
      "include_colab_link": true
    },
    "kernelspec": {
      "name": "python3",
      "display_name": "Python 3"
    },
    "language_info": {
      "name": "python"
    }
  },
  "cells": [
    {
      "cell_type": "markdown",
      "metadata": {
        "id": "view-in-github",
        "colab_type": "text"
      },
      "source": [
        "<a href=\"https://colab.research.google.com/github/pankajkumarpmp/AI-ML/blob/main/synonyms.ipynb\" target=\"_parent\"><img src=\"https://colab.research.google.com/assets/colab-badge.svg\" alt=\"Open In Colab\"/></a>"
      ]
    },
    {
      "cell_type": "code",
      "execution_count": 35,
      "metadata": {
        "colab": {
          "base_uri": "https://localhost:8080/"
        },
        "id": "a71UuW9VTgda",
        "outputId": "22c881c4-25db-438b-ef40-2644b08dca68"
      },
      "outputs": [
        {
          "output_type": "stream",
          "name": "stdout",
          "text": [
            "[[0 0 0 0 0 0 1 0 0 0 0 0]\n",
            " [0 0 0 0 0 0 0 0 1 0 0 0]\n",
            " [0 1 0 0 0 0 0 0 0 0 0 0]\n",
            " [0 0 0 0 0 0 0 0 0 1 0 0]\n",
            " [0 0 0 0 0 0 0 0 0 0 1 0]\n",
            " [0 0 0 0 0 0 0 0 0 0 0 1]\n",
            " [0 0 1 0 0 0 0 0 0 0 0 0]\n",
            " [0 0 0 0 0 1 0 0 0 0 0 0]\n",
            " [1 0 0 0 0 0 0 0 0 0 0 0]\n",
            " [0 0 0 0 0 0 0 1 0 0 0 0]\n",
            " [0 0 0 1 0 0 0 0 0 0 0 0]\n",
            " [0 0 0 0 1 0 0 0 0 0 0 0]]\n"
          ]
        }
      ],
      "source": [
        "import numpy as np\n",
        "from sklearn.feature_extraction.text import CountVectorizer\n",
        "from sklearn.model_selection import train_test_split\n",
        "from sklearn.neighbors import KNeighborsClassifier\n",
        "\n",
        "# Define a list of words and their synonyms\n",
        "words_and_synonyms = [\n",
        "    {'word': 'happy', 'synonyms': ['joyful', 'content', 'pleased']},\n",
        "    {'word': 'sad', 'synonyms': ['unhappy', 'depressed', 'gloomy']},\n",
        "    {'word': 'angry', 'synonyms': ['irritated', 'enraged', 'furious']},\n",
        "    # Add more words and synonyms as needed\n",
        "]\n",
        "\n",
        "# Convert the list of words and synonyms into a single list of words\n",
        "words = []\n",
        "for item in words_and_synonyms:\n",
        "    word = item['word']\n",
        "    synonyms = item['synonyms']\n",
        "    words.append(word)\n",
        "    words.extend(synonyms)\n",
        "\n",
        "# Use CountVectorizer to convert the words into numerical representations\n",
        "vectorizer = CountVectorizer().fit_transform(words)\n",
        "\n",
        "# Print the numerical representations of the words\n",
        "print(vectorizer.toarray())\n",
        "\n"
      ]
    },
    {
      "cell_type": "code",
      "source": [
        "# Convert the list of words and synonyms into a single list of words\n",
        "words = []\n",
        "for item in words_and_synonyms:\n",
        "    word = item['word']\n",
        "    synonyms = item['synonyms']\n",
        "    words.append(word)\n",
        "    words.extend(synonyms)\n",
        "\n",
        "# Use CountVectorizer to convert the words into numerical representations\n",
        "vectorizer = CountVectorizer().fit_transform(words)\n",
        "\n",
        "# Split the data into training and testing sets\n",
        "X_train, X_test, y_train, y_test = train_test_split(vectorizer.toarray(), words, test_size=0.2)\n",
        "\n",
        "# Print the shapes of the training and testing sets\n",
        "print(X_train.shape)\n",
        "print(X_test.shape)"
      ],
      "metadata": {
        "colab": {
          "base_uri": "https://localhost:8080/"
        },
        "id": "j14wauTVcq6G",
        "outputId": "52f9f859-251b-47f9-9365-8b313e73ab2b"
      },
      "execution_count": 41,
      "outputs": [
        {
          "output_type": "stream",
          "name": "stdout",
          "text": [
            "(9, 12)\n",
            "(3, 12)\n"
          ]
        }
      ]
    },
    {
      "cell_type": "code",
      "source": [
        "model = KNeighborsClassifier()\n",
        "model.fit(X_train, y_train)"
      ],
      "metadata": {
        "colab": {
          "base_uri": "https://localhost:8080/"
        },
        "id": "5nZWGBRuV9QB",
        "outputId": "9bd4d87b-b8f6-4625-a1dd-e9df4b5bcffc"
      },
      "execution_count": 48,
      "outputs": [
        {
          "output_type": "execute_result",
          "data": {
            "text/plain": [
              "KNeighborsClassifier()"
            ]
          },
          "metadata": {},
          "execution_count": 48
        }
      ]
    },
    {
      "cell_type": "code",
      "source": [
        "# Evaluate the model on the testing data\n",
        "predictions = model.predict(X_test)\n",
        "accuracy = accuracy_score(y_test, predictions)\n",
        "precision = precision_score(y_test, predictions,  average='micro')\n",
        "recall = recall_score(y_test, predictions,  average='micro')\n",
        "f1 = f1_score(y_test, predictions, average='micro')\n"
      ],
      "metadata": {
        "id": "919dfrnmfQfK"
      },
      "execution_count": 52,
      "outputs": []
    },
    {
      "cell_type": "code",
      "source": [],
      "metadata": {
        "id": "Kqi5yFEgcAzF"
      },
      "execution_count": 52,
      "outputs": []
    },
    {
      "cell_type": "code",
      "source": [
        "# Print the results\n",
        "print(\"Accuracy:\", accuracy)\n",
        "print(\"Precision:\", precision)\n",
        "print(\"Recall:\", recall)\n",
        "print(\"F1 Score:\", f1)\n"
      ],
      "metadata": {
        "colab": {
          "base_uri": "https://localhost:8080/"
        },
        "id": "_GGxObg9V3jd",
        "outputId": "faab8381-b6fb-4f57-eba7-239218480bd8"
      },
      "execution_count": 53,
      "outputs": [
        {
          "output_type": "stream",
          "name": "stdout",
          "text": [
            "Accuracy: 0.0\n",
            "Precision: 0.0\n",
            "Recall: 0.0\n",
            "F1 Score: 0.0\n"
          ]
        }
      ]
    },
    {
      "cell_type": "code",
      "source": [
        "# Fine-tune the model if performance is not satisfactory\n",
        "if accuracy < 0.8 or precision < 0.8 or recall < 0.8 or f1 < 0.8:\n",
        "    # Try adjusting model parameters\n",
        "    model = KNeighborsClassifier(n_neighbors=3)\n",
        "    model.fit(X_train, y_train)"
      ],
      "metadata": {
        "id": "eN90HNy_iI5i"
      },
      "execution_count": 55,
      "outputs": []
    },
    {
      "cell_type": "code",
      "source": [
        "    # Re-evaluate the model on the testing data\n",
        "    predictions = model.predict(X_test)\n",
        "    accuracy = accuracy_score(y_test, predictions)\n",
        "    precision = precision_score(y_test, predictions,  average='micro')\n",
        "    recall = recall_score(y_test, predictions,  average='micro')\n",
        "    f1 = f1_score(y_test, predictions, average='micro')"
      ],
      "metadata": {
        "id": "Ak4YnnFnW8mL"
      },
      "execution_count": 57,
      "outputs": []
    },
    {
      "cell_type": "code",
      "source": [
        "    # Try changing the type of model if performance is still not satisfactory\n",
        "    if accuracy < 0.8 or precision < 0.8 or recall < 0.8 or f1 < 0.8:\n",
        "        from sklearn.tree import DecisionTreeClassifier\n",
        "\n",
        "        model = DecisionTreeClassifier()\n",
        "        model.fit(X_train, y_train)\n",
        "\n",
        "        # Re-evaluate the model on the testing data\n",
        "        predictions = model.predict(X_test)\n",
        "        accuracy = accuracy_score(y_test, predictions)\n",
        "        precision = precision_score(y_test, predictions, average='micro')\n",
        "        recall = recall_score(y_test, predictions , average='micro')\n",
        "        f1 = f1_score(y_test, predictions, average='micro')\n",
        "\n",
        "print(\"Accuracy: \", accuracy)\n",
        "print(\"Precision: \", precision)\n",
        "print(\"Recall: \", recall)\n",
        "print(\"F1 Score: \", f1)"
      ],
      "metadata": {
        "colab": {
          "base_uri": "https://localhost:8080/"
        },
        "id": "eFD3clfmVvEy",
        "outputId": "2b96cad1-c361-422b-f7b7-53a87dedb201"
      },
      "execution_count": 62,
      "outputs": [
        {
          "output_type": "stream",
          "name": "stdout",
          "text": [
            "Accuracy:  0.0\n",
            "Precision:  0.0\n",
            "Recall:  0.0\n",
            "F1 Score:  0.0\n"
          ]
        }
      ]
    },
    {
      "cell_type": "code",
      "source": [
        "# Input a word for which you want to find synonyms\n",
        "input_word = input(\"Enter a word: \")\n",
        "input_word = [input_word]\n",
        "# Convert the input word into a numerical representation\n",
        "input_vector = CountVectorizer().fit_transform(words)\n",
        "\n",
        "#X_train, X_test, y_train, y_test = train_test_split(vectorizer.toarray(), words, test_size=0.2)\n",
        "\n",
        "# Use the fine-tuned model to make predictions\n",
        "predictions = model.predict(input_vector)\n",
        "\n",
        "# Convert the predictions back to words\n",
        "predicted_synonyms = tf.keras.preprocessing.text.Tokenizer().fit_on_texts(predictions)\n",
        "\n",
        "# Print the predicted synonyms\n",
        "print(\"The predicted synonyms for the word '{}' are: {}\".format(input_word, predicted_synonyms))\n"
      ],
      "metadata": {
        "colab": {
          "base_uri": "https://localhost:8080/"
        },
        "id": "KLOmkD4MlI5w",
        "outputId": "5a74400a-0069-4533-81a2-c87c00a8e31f"
      },
      "execution_count": 66,
      "outputs": [
        {
          "output_type": "stream",
          "name": "stdout",
          "text": [
            "Enter a word: happy\n",
            "The predicted synonyms for the word '['happy']' are: None\n"
          ]
        }
      ]
    }
  ]
}